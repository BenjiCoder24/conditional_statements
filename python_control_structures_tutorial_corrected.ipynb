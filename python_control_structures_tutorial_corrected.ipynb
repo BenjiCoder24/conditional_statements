{
 "cells": [
  {
   "cell_type": "markdown",
   "id": "e0fa8f6f",
   "metadata": {},
   "source": [
    "# Python Control Structures Tutorial"
   ]
  },
  {
   "cell_type": "markdown",
   "id": "b92813ab",
   "metadata": {},
   "source": [
    "## Introduction\n",
    "\n",
    "This notebook covers basic Python control structures: `if` statements, `if-else` structures, and `for` loops. Understanding these concepts is crucial for making decisions and repeating tasks in your code."
   ]
  },
  {
   "cell_type": "markdown",
   "id": "1845090c",
   "metadata": {},
   "source": [
    "## Understanding `if` Statements\n",
    "\n",
    "`if` statements allow you to execute certain code only if a specific condition is met."
   ]
  },
  {
   "cell_type": "code",
   "execution_count": 1,
   "id": "49af988c",
   "metadata": {},
   "outputs": [
    {
     "name": "stdout",
     "output_type": "stream",
     "text": [
      "x is greater than 5\n"
     ]
    }
   ],
   "source": [
    "# Example of if statement\n",
    "x = 10\n",
    "if x > 5:\n",
    "    print('x is greater than 5')"
   ]
  },
  {
   "cell_type": "markdown",
   "id": "dab47bbb",
   "metadata": {},
   "source": [
    "## Exploring `if-else` and `elif`\n",
    "\n",
    "The `if-else` structure lets you execute one block of code if a condition is true, and another if it's false. `elif` allows for multiple conditions."
   ]
  },
  {
   "cell_type": "code",
   "execution_count": 5,
   "id": "200007f5",
   "metadata": {},
   "outputs": [
    {
     "name": "stdout",
     "output_type": "stream",
     "text": [
      "y is not greater than 10\n"
     ]
    }
   ],
   "source": [
    "# Example of if-else statement\n",
    "y = 5\n",
    "if y > 10:\n",
    "    print('y is greater than 10')\n",
    "else:\n",
    "    print('y is not greater than 10')"
   ]
  },
  {
   "cell_type": "markdown",
   "id": "af75f19d",
   "metadata": {},
   "source": [
    "## Diving into `for` Loops\n",
    "\n",
    "`for` loops are used to iterate over a sequence, executing a block of code each time."
   ]
  },
  {
   "cell_type": "code",
   "execution_count": 6,
   "id": "209ae5d8",
   "metadata": {},
   "outputs": [
    {
     "name": "stdout",
     "output_type": "stream",
     "text": [
      "0\n",
      "1\n",
      "2\n",
      "3\n",
      "4\n"
     ]
    }
   ],
   "source": [
    "# Example of for loop\n",
    "for i in range(5):\n",
    "    print(i)"
   ]
  },
  {
   "cell_type": "markdown",
   "id": "d9448356",
   "metadata": {},
   "source": [
    "## Practical Example: Combining `if` Statements with `for` Loops\n",
    "\n",
    "You can use `if` statements within `for` loops for conditional execution of code."
   ]
  },
  {
   "cell_type": "code",
   "execution_count": 8,
   "id": "439b4e9f",
   "metadata": {},
   "outputs": [
    {
     "name": "stdout",
     "output_type": "stream",
     "text": [
      "1 is odd\n",
      "2 is even\n",
      "3 is odd\n",
      "4 is even\n",
      "5 is odd\n"
     ]
    }
   ],
   "source": [
    "# Combining if statements with for loops\n",
    "numbers = [1, 2, 3, 4, 5]\n",
    "for number in numbers:\n",
    "    if number % 2 == 0:\n",
    "        print(f'{number} is even')\n",
    "    else:\n",
    "        print(f'{number} is odd')"
   ]
  },
  {
   "cell_type": "markdown",
   "id": "95f6325d",
   "metadata": {},
   "source": [
    "## Conclusion\n",
    "\n",
    "In this tutorial, we've explored the basics of `if` statements, `if-else` structures, and `for` loops in Python. These control structures allow you to create more dynamic and interactive programs."
   ]
  }
 ],
 "metadata": {
  "kernelspec": {
   "display_name": "Python 3 (ipykernel)",
   "language": "python",
   "name": "python3"
  },
  "language_info": {
   "codemirror_mode": {
    "name": "ipython",
    "version": 3
   },
   "file_extension": ".py",
   "mimetype": "text/x-python",
   "name": "python",
   "nbconvert_exporter": "python",
   "pygments_lexer": "ipython3",
   "version": "3.10.13"
  }
 },
 "nbformat": 4,
 "nbformat_minor": 5
}
